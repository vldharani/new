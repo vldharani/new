{
  "nbformat": 4,
  "nbformat_minor": 0,
  "metadata": {
    "colab": {
      "private_outputs": true,
      "provenance": []
    },
    "kernelspec": {
      "name": "python3",
      "display_name": "Python 3"
    },
    "language_info": {
      "name": "python"
    }
  },
  "cells": [
    {
      "cell_type": "code",
      "source": [
        "import pandas as pd\n",
        "import matplotlib.pyplot as plt\n",
        "from sklearn import datasets\n",
        "import numpy as np\n",
        "from sklearn.model_selection import train_test_split\n",
        "from sklearn.tree import DecisionTreeClassifier\n",
        "from sklearn import tree\n",
        "from sklearn.metrics import classification_report\n",
        "from sklearn import preprocessing"
      ],
      "metadata": {
        "id": "jGTSojSLUPlU"
      },
      "execution_count": null,
      "outputs": []
    },
    {
      "cell_type": "code",
      "execution_count": null,
      "metadata": {
        "id": "BxyS8CpISHxO"
      },
      "outputs": [],
      "source": [
        "from google.colab import drive\n",
        "drive.mount('/content/drive')"
      ]
    },
    {
      "cell_type": "markdown",
      "source": [],
      "metadata": {
        "id": "zc0DqqMtUD1N"
      }
    },
    {
      "cell_type": "code",
      "source": [
        "file_name =\"/content/iris.csv\""
      ],
      "metadata": {
        "id": "aYzY4KEjTpID"
      },
      "execution_count": null,
      "outputs": []
    },
    {
      "cell_type": "code",
      "source": [
        "import pandas as pd\n",
        "iris = pd.read_csv(file_name)\n"
      ],
      "metadata": {
        "id": "0GNG0_cVT0Xx"
      },
      "execution_count": null,
      "outputs": []
    },
    {
      "cell_type": "code",
      "source": [
        "iris"
      ],
      "metadata": {
        "id": "3h3zevnVWQ5p"
      },
      "execution_count": null,
      "outputs": []
    },
    {
      "cell_type": "code",
      "source": [
        "iris.head()"
      ],
      "metadata": {
        "id": "bKmy539kWSvE"
      },
      "execution_count": null,
      "outputs": []
    },
    {
      "cell_type": "code",
      "source": [
        "lable_encoder = preprocessing.LabelEncoder()\n",
        "iris['Species']=lable_encoder .fit_transform(iris['Species'])\n",
        "iris['Species']"
      ],
      "metadata": {
        "id": "-PeknJUmWxgu"
      },
      "execution_count": null,
      "outputs": []
    },
    {
      "cell_type": "code",
      "source": [
        "x=iris.iloc[:,0:4]\n",
        "y=iris['Species']"
      ],
      "metadata": {
        "id": "gPBcsPWLYd7W"
      },
      "execution_count": null,
      "outputs": []
    },
    {
      "cell_type": "code",
      "source": [
        "x"
      ],
      "metadata": {
        "id": "7KUk7UIZZNGK"
      },
      "execution_count": null,
      "outputs": []
    },
    {
      "cell_type": "code",
      "source": [
        "y"
      ],
      "metadata": {
        "id": "M5vXBeUdZNZo"
      },
      "execution_count": null,
      "outputs": []
    },
    {
      "cell_type": "code",
      "source": [
        "iris = iris.rename(columns={\"Species\":\"Flowers_types\"})"
      ],
      "metadata": {
        "id": "ba2uONPdUB3D"
      },
      "execution_count": null,
      "outputs": []
    },
    {
      "cell_type": "code",
      "source": [
        "iris"
      ],
      "metadata": {
        "id": "RwqjFvHHULkw"
      },
      "execution_count": null,
      "outputs": []
    },
    {
      "cell_type": "code",
      "source": [
        "# prompt: next code\n",
        "\n",
        "x_train,x_test,y_train,y_test = train_test_split(x,y,test_size=0.3,random_state=0)\n",
        "model = DecisionTreeClassifier()\n",
        "model.fit(x_train,y_train)\n",
        "pred = model.predict(x_test)\n",
        "print(classification_report(y_test,pred))\n",
        "from sklearn.metrics import accuracy_score\n",
        "print(accuracy_score(y_test,pred))\n",
        "plt.figure(figsize=(12,8))\n",
        "tree.plot_tree(model,fontsize=10)\n",
        "plt.show()\n",
        "from sklearn.tree import export_graphviz\n",
        "export_graphviz(model,out_file=\"tree.dot\",feature_names=['sepal length (cm)','sepal width (cm)','petal length (cm)','petal width (cm)'],class_names=['setosa','versicolor','virginica'],filled=True)\n",
        "!dot -Tpng tree.dot -o tree.png\n",
        "from IPython.display import Image\n",
        "Image(filename='tree.png')\n"
      ],
      "metadata": {
        "id": "zSVvSM_-Sy-N"
      },
      "execution_count": null,
      "outputs": []
    },
    {
      "cell_type": "code",
      "source": [],
      "metadata": {
        "id": "imGXMstPcrA8"
      },
      "execution_count": null,
      "outputs": []
    }
  ]
}