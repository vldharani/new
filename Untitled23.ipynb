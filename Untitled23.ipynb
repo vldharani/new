{
  "nbformat": 4,
  "nbformat_minor": 0,
  "metadata": {
    "colab": {
      "private_outputs": true,
      "provenance": []
    },
    "kernelspec": {
      "name": "python3",
      "display_name": "Python 3"
    },
    "language_info": {
      "name": "python"
    }
  },
  "cells": [
    {
      "cell_type": "code",
      "execution_count": null,
      "metadata": {
        "id": "qJfdpRMXED2d"
      },
      "outputs": [],
      "source": [
        "from google.colab import drive\n",
        "drive.mount('/content/drive')"
      ]
    },
    {
      "cell_type": "code",
      "source": [
        "file_name =\"/content/claimants.csv\""
      ],
      "metadata": {
        "id": "YSc3T2FsEEps"
      },
      "execution_count": null,
      "outputs": []
    },
    {
      "cell_type": "code",
      "source": [
        "import pandas as pd\n",
        "iris = pd.read_csv(file_name)"
      ],
      "metadata": {
        "id": "O3IXmtD3EUSa"
      },
      "execution_count": null,
      "outputs": []
    },
    {
      "cell_type": "code",
      "source": [
        "df=pd.read_csv(r\"/content/claimants.csv\")\n",
        "df.head()"
      ],
      "metadata": {
        "id": "ytuJFKSUEf4U"
      },
      "execution_count": null,
      "outputs": []
    },
    {
      "cell_type": "code",
      "source": [
        "df"
      ],
      "metadata": {
        "id": "0-xR3Xe8E52M"
      },
      "execution_count": null,
      "outputs": []
    },
    {
      "cell_type": "code",
      "source": [
        "correlation = df['ATTORNEY'].corr(df['LOSS'])\n",
        "correlation"
      ],
      "metadata": {
        "id": "H-rr97AZFFPY"
      },
      "execution_count": null,
      "outputs": []
    },
    {
      "cell_type": "code",
      "source": [
        "correlation = df['ATTORNEY'].corr(df['CLMAGE'])\n",
        "correlation"
      ],
      "metadata": {
        "id": "-XPWYW7VFZ7T"
      },
      "execution_count": null,
      "outputs": []
    },
    {
      "cell_type": "code",
      "source": [
        "correlation = df['ATTORNEY'].corr(df['CASENUM'])\n",
        "correlation"
      ],
      "metadata": {
        "id": "yARdZT8_FimN"
      },
      "execution_count": null,
      "outputs": []
    },
    {
      "cell_type": "code",
      "source": [
        "correlation = df['ATTORNEY'].corr(df['CLMSEX'])\n",
        "correlation"
      ],
      "metadata": {
        "id": "w0MnH5NSFoD3"
      },
      "execution_count": null,
      "outputs": []
    },
    {
      "cell_type": "code",
      "source": [
        "correlation = df['ATTORNEY'].corr(df['CLMINSUR'])\n",
        "correlation"
      ],
      "metadata": {
        "id": "n9Plg4VFFw9a"
      },
      "execution_count": null,
      "outputs": []
    },
    {
      "cell_type": "code",
      "source": [
        "correlation = df['ATTORNEY'].corr(df['SEATBELT'])\n",
        "correlation"
      ],
      "metadata": {
        "id": "E-lgdMHWF31q"
      },
      "execution_count": null,
      "outputs": []
    },
    {
      "cell_type": "code",
      "source": [
        "import matplotlib.pyplot as plt\n",
        "import seaborn as sns\n",
        "\n",
        "sns.scatterplot(x='ATTORNEY',y='LOSS',data=df)\n",
        "plt.title('Correlation between ATTORNEY and LOSS')\n",
        "plt.xlabel('ATTORNEY')\n",
        "plt.ylabel('LOSS')"
      ],
      "metadata": {
        "id": "llIslZbHGBZ5"
      },
      "execution_count": null,
      "outputs": []
    },
    {
      "cell_type": "code",
      "source": [
        "sns.scatterplot(x='ATTORNEY',y='LOSS',data=df)\n",
        "plt.title('Correlation between ATTORNEY and CLMSEX')\n",
        "plt.xlabel('ATTORNEY')\n",
        "plt.ylabel('LOSS')"
      ],
      "metadata": {
        "id": "9Fr7kfTpGUIO"
      },
      "execution_count": null,
      "outputs": []
    },
    {
      "cell_type": "code",
      "source": [
        "sns.scatterplot(x='ATTORNEY',y='LOSS',data=df)\n",
        "plt.title('Correlation between ATTORNEY and CLMINSUR')\n",
        "plt.xlabel('ATTORNEY')\n",
        "plt.ylabel('CLMINSUR')"
      ],
      "metadata": {
        "id": "tol5xboYJMBI"
      },
      "execution_count": null,
      "outputs": []
    },
    {
      "cell_type": "code",
      "source": [],
      "metadata": {
        "id": "uQ_A-c2rJjRN"
      },
      "execution_count": null,
      "outputs": []
    },
    {
      "cell_type": "code",
      "source": [
        "sns.scatterplot(x='ATTORNEY',y='LOSS',data=df)\n",
        "plt.title('Correlation between ATTORNEY and SEATBELT')\n",
        "plt.xlabel('ATTORNEY')\n",
        "plt.ylabel('SEATBELT')"
      ],
      "metadata": {
        "id": "UsMyGobWJjjQ"
      },
      "execution_count": null,
      "outputs": []
    },
    {
      "cell_type": "code",
      "source": [
        "import pandas as pd\n",
        "from sklearn.linear_model import LogisticRegression\n",
        "from pickle import dump\n",
        "from pickle import load\n",
        "claimants = pd.read_csv(\"claimants.csv\")\n",
        "claimants.drop([\"CASENUM\"], inplace=True, axis = 1)\n",
        "claimants = claimants.dropna()\n",
        "print(claimants)\n",
        "X = claimants.iloc[:, [1,2,3,4,5]]\n",
        "print(X)\n",
        "Y = claimants.iloc[:,0]\n",
        "print(Y)\n",
        "model = LogisticRegression (max_iter=300)\n",
        "model.fit(X,Y)\n",
        "dump (model, open('Logistic_Model.sav', 'wb'))\n",
        "loaded_model = load (open('Logistic_Model.sav', 'rb'))\n",
        "result = loaded_model.score (X, Y)\n",
        "print(result)\n"
      ],
      "metadata": {
        "id": "e2agiZIYGTtb"
      },
      "execution_count": null,
      "outputs": []
    },
    {
      "cell_type": "code",
      "source": [],
      "metadata": {
        "id": "0I2pViXNHWTY"
      },
      "execution_count": null,
      "outputs": []
    }
  ]
}